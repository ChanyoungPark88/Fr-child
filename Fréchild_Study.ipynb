{
  "nbformat": 4,
  "nbformat_minor": 0,
  "metadata": {
    "colab": {
      "name": "Fréchild Study.ipynb",
      "provenance": [],
      "toc_visible": true,
      "include_colab_link": true
    },
    "kernelspec": {
      "name": "python3",
      "display_name": "Python 3"
    },
    "language_info": {
      "name": "python"
    }
  },
  "cells": [
    {
      "cell_type": "markdown",
      "metadata": {
        "id": "view-in-github",
        "colab_type": "text"
      },
      "source": [
        "<a href=\"https://colab.research.google.com/github/ChanyoungPark88/Frechild/blob/main/Fr%C3%A9child_Study.ipynb\" target=\"_parent\"><img src=\"https://colab.research.google.com/assets/colab-badge.svg\" alt=\"Open In Colab\"/></a>"
      ]
    },
    {
      "cell_type": "markdown",
      "metadata": {
        "id": "qc_FYiUBlN2U"
      },
      "source": [
        "# 11/2021"
      ]
    },
    {
      "cell_type": "markdown",
      "metadata": {
        "id": "Zzxs60_2lSqM"
      },
      "source": [
        "## 11/07\n",
        "\n",
        "Fox\n",
        "\n",
        "Fre"
      ]
    },
    {
      "cell_type": "markdown",
      "metadata": {
        "id": "xj8KVD1Blfw6"
      },
      "source": [
        "## 11/07\n",
        "\n",
        "Fox\n",
        "\n",
        "Fre"
      ]
    },
    {
      "cell_type": "markdown",
      "metadata": {
        "id": "EXU5VgwTljtP"
      },
      "source": [
        "# 12/2021\n"
      ]
    },
    {
      "cell_type": "markdown",
      "metadata": {
        "id": "hGjOP_RalsV2"
      },
      "source": [
        "## 12/01"
      ]
    }
  ]
}